{
    "nbformat_minor": 2, 
    "cells": [
        {
            "source": "### Importing the necessary libraries", 
            "cell_type": "markdown", 
            "metadata": {}
        }, 
        {
            "source": "import sys\n!{sys.executable} -m pip install beautifulsoup4", 
            "cell_type": "markdown", 
            "metadata": {}
        }, 
        {
            "source": "import sys\n!{sys.executable} -m pip install lxml", 
            "cell_type": "markdown", 
            "metadata": {}
        }, 
        {
            "source": "import sys\n!{sys.executable} -m pip install requests\n", 
            "cell_type": "markdown", 
            "metadata": {}
        }, 
        {
            "source": "### Getting the data from wikipedia page and saving it in a csv file", 
            "cell_type": "markdown", 
            "metadata": {}
        }, 
        {
            "execution_count": null, 
            "cell_type": "code", 
            "metadata": {}, 
            "outputs": [], 
            "source": "from bs4 import BeautifulSoup\nimport requests\nimport csv\nsource = requests.get('https://en.wikipedia.org/wiki/List_of_postal_codes_of_Canada:_M').text \nsoup = BeautifulSoup(source,'lxml')\n#print(soup.prettify())\ntable = soup.find('table')\n#print(table.prettify())\nheading = table.find_all('th')\n#for head in heading:\n#    print(head.text)\ncontent = table.find_all('td')\n#for a in content:\n#    print(a.text)\nwith open('table1.csv','w') as csv_file:\n    csv_writer = csv.writer(csv_file)\n    csv_writer.writerow([heading[0].text,heading[1].text,heading[2].text])\n    i=0\n    while i in range(len(content)):\n        csv_writer.writerow([content[i].text,content[i+1].text,content[i+2].text])\n        i+=3"
        }, 
        {
            "source": "### Droping the rows where Borough is Not assigned", 
            "cell_type": "markdown", 
            "metadata": {}
        }, 
        {
            "execution_count": null, 
            "cell_type": "code", 
            "metadata": {}, 
            "outputs": [], 
            "source": "import pandas as pd\ndf = pd.read_csv('table1.csv')\ndf1=df.dropna()\n#df1.head()\ndf2=df1[df1.Borough != 'Not assigned']\ndf2[df2.columns[2]]=df2[df2.columns[2]].str.replace(\"\\n\",\"\")\n#df2.head()"
        }, 
        {
            "source": "### Naming not assigned neighbourhooods as the name of Borough", 
            "cell_type": "markdown", 
            "metadata": {}
        }, 
        {
            "execution_count": null, 
            "cell_type": "code", 
            "metadata": {}, 
            "outputs": [], 
            "source": "df2[df2.columns[2]].replace('Not assigned',df2.Borough,inplace=True)\ndf2"
        }, 
        {
            "source": "### Grouping neighbourhood on the basis of Postcode", 
            "cell_type": "markdown", 
            "metadata": {}
        }, 
        {
            "execution_count": null, 
            "cell_type": "code", 
            "metadata": {}, 
            "outputs": [], 
            "source": "df3=df2.groupby(\"Postcode\").agg(lambda x:','.join(set(x)))       \ndf3.reset_index()"
        }, 
        {
            "execution_count": null, 
            "cell_type": "code", 
            "metadata": {}, 
            "outputs": [], 
            "source": "df3.shape"
        }
    ], 
    "metadata": {
        "kernelspec": {
            "display_name": "Python 3.6", 
            "name": "python3", 
            "language": "python"
        }, 
        "language_info": {
            "mimetype": "text/x-python", 
            "nbconvert_exporter": "python", 
            "version": "3.6.8", 
            "name": "python", 
            "file_extension": ".py", 
            "pygments_lexer": "ipython3", 
            "codemirror_mode": {
                "version": 3, 
                "name": "ipython"
            }
        }
    }, 
    "nbformat": 4
}